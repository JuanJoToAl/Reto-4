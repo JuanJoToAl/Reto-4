{
 "cells": [
  {
   "cell_type": "code",
   "execution_count": 38,
   "metadata": {},
   "outputs": [
    {
     "name": "stdout",
     "output_type": "stream",
     "text": [
      "El numero 117 corresponde al código ASCII de u \n"
     ]
    }
   ],
   "source": [
    "try:\n",
    "    #Se declaran variables.\n",
    "\n",
    "    n : int\n",
    "    \n",
    "    n = int(input(\"Ingrese un numero entero: \"))\n",
    "    if n >= 97 and n <= 122:\n",
    "        print(\"El numero \" + str(n) + \" corresponde al código ASCII de \"+ chr(n) +\" \")\n",
    "    else:\n",
    "        print(\"El numero \" + str(n) + \" no corresponde al código ASCII de una vocal minúscula\")\n",
    "except ValueError:\n",
    "    print(\"Por favor ingrese un número válido\")"
   ]
  },
  {
   "cell_type": "code",
   "execution_count": 9,
   "metadata": {},
   "outputs": [
    {
     "name": "stdout",
     "output_type": "stream",
     "text": [
      "El código ASCII del primerer caracter de la cadena no es par\n"
     ]
    }
   ],
   "source": [
    "try:\n",
    "    n = ord(input(\"Ingrese un solo caracter\"))\n",
    "\n",
    "    #Si módulo de n == 0, n es par, sino, es impar.\n",
    "\n",
    "    if n % 2 == 0:\n",
    "        print(\"El código ASCII del primerer caracter de la cadena es par\")\n",
    "    else:\n",
    "        print(\"El código ASCII del primerer caracter de la cadena no es par\")\n",
    "except IndexError:\n",
    "    print(\"Por favor ingrese un caracter\")"
   ]
  },
  {
   "cell_type": "code",
   "execution_count": 5,
   "metadata": {},
   "outputs": [
    {
     "name": "stdout",
     "output_type": "stream",
     "text": [
      "El caracter es un dígito.\n"
     ]
    }
   ],
   "source": [
    "try:\n",
    "    #Se declaran variables.\n",
    "    \n",
    "    n : int\n",
    "\n",
    "    n = int(input(\"Ingrese un numero entero: \"))\n",
    "\n",
    "    #Se determina intérvalo para saber si n es un caracter.\n",
    "\n",
    "    if 0 <= n and  n < 10:\n",
    "        print(\"El caracter es un dígito.\")\n",
    "    else:\n",
    "        print(\"El caracter no es un dígito.\")\n",
    "except ValueError:\n",
    "    print(\"Por favor ingrese un caracter válido, el caracter debe ser un número menor a 10\")\n"
   ]
  },
  {
   "cell_type": "code",
   "execution_count": 1,
   "metadata": {},
   "outputs": [
    {
     "name": "stdout",
     "output_type": "stream",
     "text": [
      "Por favor ingrese un número válido\n"
     ]
    }
   ],
   "source": [
    "try:\n",
    "    #Se declaran variables.\n",
    "\n",
    "    n : float\n",
    "    \n",
    "    n = float(input(\"Ingrese un numero entero: \"))\n",
    "\n",
    "    #Se determinan intérvalos para saber si n es positivo, negativo o neutro para la suma.\n",
    "\n",
    "    if n > 0:\n",
    "        print(\"El numero \" + str(n) + \" es positivo\")\n",
    "    elif n < 0:\n",
    "        print(\"El numero \" + str(n) + \" es negativo\")\n",
    "    else:\n",
    "        print(\"El numero \" + str(n) + \" es el neutro para la suma\")\n",
    "except ValueError:\n",
    "    print(\"Por favor ingrese un número válido\")"
   ]
  },
  {
   "cell_type": "code",
   "execution_count": null,
   "metadata": {},
   "outputs": [],
   "source": [
    "try:\n",
    "    #Se declaran variables.\n",
    "    \n",
    "    x_centro_circulo : float\n",
    "    y_centro_circulo : float\n",
    "    radio : float\n",
    "    a_coordenada : float\n",
    "    b_coordenada : float\n",
    "    \n",
    "    x_centro_circulo = float(input(\"Ingrese la coordenada x del centro del círculo\"))\n",
    "    y_centro_circulo = float(input(\"Ingrese la coordenada y del centro del círculo \"))\n",
    "    radio = float(input(\"Ingrese el radio del círculo \"))\n",
    "    a_coordenada = float(input(\"Ingrese la coordenada x del punto\"))\n",
    "    b_coordenada = float(input(\"Ingrese la coordenada y  del punto \"))\n",
    "\n",
    "    #Se determina si el punto pertenece al círculo.\n",
    "\n",
    "    if radio >= 0.5*(((a_coordenada - x_centro_circulo)*2 + (b_coordenada - y_centro_circulo)*2)):\n",
    "        print(\"La pareja ordenada\", (a_coordenada,b_coordenada), \"pertenece el círculo\")\n",
    "    else:\n",
    "        print(\"La pareja ordenada\", (a_coordenada,b_coordenada), \"no pertenece el círculo\")\n",
    "except ValueError:\n",
    "    print(\"Por favor ingrese la variable en el formato apropiado\")"
   ]
  },
  {
   "cell_type": "code",
   "execution_count": 5,
   "metadata": {},
   "outputs": [
    {
     "name": "stdout",
     "output_type": "stream",
     "text": [
      "Con las longitudes -2.0 , 5.0 y 7.0 no se puede hacer un triángulo \n"
     ]
    }
   ],
   "source": [
    "try:\n",
    "    #Se declaran variables.\n",
    "    \n",
    "    longitud_a : float\n",
    "    longitud_b : float\n",
    "    longitud_c : float\n",
    "\n",
    "    longitud_a = float(input(\"Ingrese la longitud a del tiángulo: \"))\n",
    "    longitud_b = float(input(\"Ingrese la longitud b del tiángulo: \"))\n",
    "    longitud_c = float(input(\"Ingrese la longitud c del tiángulo: \"))  \n",
    "\n",
    "    #Se determina si las longitudes son aptas para hacer un triángulo.\n",
    "\n",
    "    if longitud_a < (longitud_b + longitud_c) and longitud_b < (longitud_a + longitud_c) and longitud_c < (longitud_a + longitud_b): \n",
    "            print(\"Con las longitudes\", longitud_a, \",\" , longitud_b , \"y\", longitud_c, \"se puede hacer un triángulo \")\n",
    "    else:\n",
    "        print(\"Con las longitudes\", longitud_a, \",\" , longitud_b ,\"y\", longitud_c, \"no se puede hacer un triángulo \")\n",
    "except ValueError:\n",
    "    print(\"Por favor ingrese las longitudes en el formato apropiado\")"
   ]
  }
 ],
 "metadata": {
  "kernelspec": {
   "display_name": "Python 3",
   "language": "python",
   "name": "python3"
  },
  "language_info": {
   "codemirror_mode": {
    "name": "ipython",
    "version": 3
   },
   "file_extension": ".py",
   "mimetype": "text/x-python",
   "name": "python",
   "nbconvert_exporter": "python",
   "pygments_lexer": "ipython3",
   "version": "3.12.2"
  }
 },
 "nbformat": 4,
 "nbformat_minor": 2
}
